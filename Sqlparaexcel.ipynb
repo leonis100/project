{
  "nbformat": 4,
  "nbformat_minor": 0,
  "metadata": {
    "colab": {
      "provenance": [],
      "authorship_tag": "ABX9TyPxPvI6jqcFdQKz7ONNIwij",
      "include_colab_link": true
    },
    "kernelspec": {
      "name": "python3",
      "display_name": "Python 3"
    },
    "language_info": {
      "name": "python"
    }
  },
  "cells": [
    {
      "cell_type": "markdown",
      "metadata": {
        "id": "view-in-github",
        "colab_type": "text"
      },
      "source": [
        "<a href=\"https://colab.research.google.com/github/leonis100/project/blob/main/Sqlparaexcel.ipynb\" target=\"_parent\"><img src=\"https://colab.research.google.com/assets/colab-badge.svg\" alt=\"Open In Colab\"/></a>"
      ]
    },
    {
      "cell_type": "code",
      "source": [
        "import pandas as pd\n",
        "import sqlite3\n",
        "\n",
        "# Conecte-se ao banco de dados\n",
        "conn = sqlite3.connect('/content/Chinook_Sqlite.sqlite')"
      ],
      "metadata": {
        "id": "NqnMHhviVqbq"
      },
      "execution_count": 6,
      "outputs": []
    },
    {
      "cell_type": "code",
      "source": [
        "df = pd.read_sql_query('select trackId,musica,  Composer, genero, nome_do_album from Track inner Join genre on track.genreId= genre.genreId inner join album on album.AlbumId= track.AlbumId', conn)\n"
      ],
      "metadata": {
        "id": "bbJqHlCiVss5"
      },
      "execution_count": 15,
      "outputs": []
    },
    {
      "cell_type": "code",
      "source": [
        "print (df)"
      ],
      "metadata": {
        "colab": {
          "base_uri": "https://localhost:8080/"
        },
        "id": "9It_-cDFWR6R",
        "outputId": "cecd36ea-3a1f-4df8-9cf1-567763cbcff8"
      },
      "execution_count": 16,
      "outputs": [
        {
          "output_type": "stream",
          "name": "stdout",
          "text": [
            "      TrackId                                             musica  \\\n",
            "0           1            For Those About To Rock (We Salute You)   \n",
            "1           2                                  Balls to the Wall   \n",
            "2           3                                    Fast As a Shark   \n",
            "3           4                                  Restless and Wild   \n",
            "4           5                               Princess of the Dawn   \n",
            "...       ...                                                ...   \n",
            "3498     3499  Pini Di Roma (Pinien Von Rom) \\ I Pini Della V...   \n",
            "3499     3500  String Quartet No. 12 in C Minor, D. 703 \"Quar...   \n",
            "3500     3501               L'orfeo, Act 3, Sinfonia (Orchestra)   \n",
            "3501     3502  Quintet for Horn, Violin, 2 Violas, and Cello ...   \n",
            "3502     3503                                      Koyaanisqatsi   \n",
            "\n",
            "                                               Composer      genero  \\\n",
            "0             Angus Young, Malcolm Young, Brian Johnson        Rock   \n",
            "1                                                  None        Rock   \n",
            "2     F. Baltes, S. Kaufman, U. Dirkscneider & W. Ho...        Rock   \n",
            "3     F. Baltes, R.A. Smith-Diesel, S. Kaufman, U. D...        Rock   \n",
            "4                            Deaffy & R.A. Smith-Diesel        Rock   \n",
            "...                                                 ...         ...   \n",
            "3498                                               None   Classical   \n",
            "3499                                     Franz Schubert   Classical   \n",
            "3500                                 Claudio Monteverdi   Classical   \n",
            "3501                            Wolfgang Amadeus Mozart   Classical   \n",
            "3502                                       Philip Glass  Soundtrack   \n",
            "\n",
            "                                          nome_do_album  \n",
            "0                 For Those About To Rock We Salute You  \n",
            "1                                     Balls to the Wall  \n",
            "2                                     Restless and Wild  \n",
            "3                                     Restless and Wild  \n",
            "4                                     Restless and Wild  \n",
            "...                                                 ...  \n",
            "3498                             Respighi:Pines of Rome  \n",
            "3499  Schubert: The Late String Quartets & String Qu...  \n",
            "3500                                Monteverdi: L'Orfeo  \n",
            "3501                              Mozart: Chamber Music  \n",
            "3502  Koyaanisqatsi (Soundtrack from the Motion Pict...  \n",
            "\n",
            "[3503 rows x 5 columns]\n"
          ]
        }
      ]
    },
    {
      "cell_type": "code",
      "source": [
        "df.to_excel('musica.xls')"
      ],
      "metadata": {
        "colab": {
          "base_uri": "https://localhost:8080/"
        },
        "id": "W8-9OdfHW7qn",
        "outputId": "0e94e6fd-c4a3-4f8c-98ac-e235fdad472f"
      },
      "execution_count": 18,
      "outputs": [
        {
          "output_type": "stream",
          "name": "stderr",
          "text": [
            "<ipython-input-18-cd278efd1fcf>:1: FutureWarning: As the xlwt package is no longer maintained, the xlwt engine will be removed in a future version of pandas. This is the only engine in pandas that supports writing in the xls format. Install openpyxl and write to an xlsx file instead. You can set the option io.excel.xls.writer to 'xlwt' to silence this warning. While this option is deprecated and will also raise a warning, it can be globally set and the warning suppressed.\n",
            "  df.to_excel('musica.xls')\n"
          ]
        }
      ]
    }
  ]
}