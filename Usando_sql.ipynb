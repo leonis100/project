{
  "nbformat": 4,
  "nbformat_minor": 0,
  "metadata": {
    "colab": {
      "provenance": [],
      "authorship_tag": "ABX9TyMklQ1Y+yTzY8hGiBMmpEWS",
      "include_colab_link": true
    },
    "kernelspec": {
      "name": "python3",
      "display_name": "Python 3"
    },
    "language_info": {
      "name": "python"
    }
  },
  "cells": [
    {
      "cell_type": "markdown",
      "metadata": {
        "id": "view-in-github",
        "colab_type": "text"
      },
      "source": [
        "<a href=\"https://colab.research.google.com/github/leonis100/project/blob/main/Usando_sql.ipynb\" target=\"_parent\"><img src=\"https://colab.research.google.com/assets/colab-badge.svg\" alt=\"Open In Colab\"/></a>"
      ]
    },
    {
      "cell_type": "code",
      "execution_count": 5,
      "metadata": {
        "id": "6lQuzVsCSW7s"
      },
      "outputs": [],
      "source": [
        "import pandas as pd\n",
        "import sqlite3\n",
        "\n",
        "# Conecte-se ao banco de dados\n",
        "conn = sqlite3.connect('/content/Chinook_Sqlite.sqlite')\n",
        "df = pd.read_sql_query('SELECT * FROM track ', conn)\n",
        "\n",
        "\n",
        "\n"
      ]
    },
    {
      "cell_type": "code",
      "source": [
        "print (df)"
      ],
      "metadata": {
        "colab": {
          "base_uri": "https://localhost:8080/"
        },
        "id": "-Gqpw_aiTc-M",
        "outputId": "6d5f8090-a2ad-4b48-b7ea-bf1fa4b1f02c"
      },
      "execution_count": 6,
      "outputs": [
        {
          "output_type": "stream",
          "name": "stdout",
          "text": [
            "      TrackId                                             musica  AlbumId  \\\n",
            "0           1            For Those About To Rock (We Salute You)        1   \n",
            "1           2                                  Balls to the Wall        2   \n",
            "2           3                                    Fast As a Shark        3   \n",
            "3           4                                  Restless and Wild        3   \n",
            "4           5                               Princess of the Dawn        3   \n",
            "...       ...                                                ...      ...   \n",
            "3498     3499  Pini Di Roma (Pinien Von Rom) \\ I Pini Della V...      343   \n",
            "3499     3500  String Quartet No. 12 in C Minor, D. 703 \"Quar...      344   \n",
            "3500     3501               L'orfeo, Act 3, Sinfonia (Orchestra)      345   \n",
            "3501     3502  Quintet for Horn, Violin, 2 Violas, and Cello ...      346   \n",
            "3502     3503                                      Koyaanisqatsi      347   \n",
            "\n",
            "      MediaTypeId  GenreId                                           Composer  \\\n",
            "0               1        1          Angus Young, Malcolm Young, Brian Johnson   \n",
            "1               2        1                                               None   \n",
            "2               2        1  F. Baltes, S. Kaufman, U. Dirkscneider & W. Ho...   \n",
            "3               2        1  F. Baltes, R.A. Smith-Diesel, S. Kaufman, U. D...   \n",
            "4               2        1                         Deaffy & R.A. Smith-Diesel   \n",
            "...           ...      ...                                                ...   \n",
            "3498            2       24                                               None   \n",
            "3499            2       24                                     Franz Schubert   \n",
            "3500            2       24                                 Claudio Monteverdi   \n",
            "3501            2       24                            Wolfgang Amadeus Mozart   \n",
            "3502            2       10                                       Philip Glass   \n",
            "\n",
            "      Milliseconds     Bytes  UnitPrice  \n",
            "0           343719  11170334       0.99  \n",
            "1           342562   5510424       0.99  \n",
            "2           230619   3990994       0.99  \n",
            "3           252051   4331779       0.99  \n",
            "4           375418   6290521       0.99  \n",
            "...            ...       ...        ...  \n",
            "3498        286741   4718950       0.99  \n",
            "3499        139200   2283131       0.99  \n",
            "3500         66639   1189062       0.99  \n",
            "3501        221331   3665114       0.99  \n",
            "3502        206005   3305164       0.99  \n",
            "\n",
            "[3503 rows x 9 columns]\n"
          ]
        }
      ]
    },
    {
      "cell_type": "code",
      "source": [
        "df = df.rename(columns={'musica': 'música'})\n"
      ],
      "metadata": {
        "id": "tIMvq_OcU4HL"
      },
      "execution_count": 7,
      "outputs": []
    },
    {
      "cell_type": "code",
      "source": [
        "print (df)"
      ],
      "metadata": {
        "colab": {
          "base_uri": "https://localhost:8080/"
        },
        "id": "w1xL1jRdVBIa",
        "outputId": "811cbf94-9d25-49d8-8dd1-a8a4ee087de7"
      },
      "execution_count": 8,
      "outputs": [
        {
          "output_type": "stream",
          "name": "stdout",
          "text": [
            "      TrackId                                             música  AlbumId  \\\n",
            "0           1            For Those About To Rock (We Salute You)        1   \n",
            "1           2                                  Balls to the Wall        2   \n",
            "2           3                                    Fast As a Shark        3   \n",
            "3           4                                  Restless and Wild        3   \n",
            "4           5                               Princess of the Dawn        3   \n",
            "...       ...                                                ...      ...   \n",
            "3498     3499  Pini Di Roma (Pinien Von Rom) \\ I Pini Della V...      343   \n",
            "3499     3500  String Quartet No. 12 in C Minor, D. 703 \"Quar...      344   \n",
            "3500     3501               L'orfeo, Act 3, Sinfonia (Orchestra)      345   \n",
            "3501     3502  Quintet for Horn, Violin, 2 Violas, and Cello ...      346   \n",
            "3502     3503                                      Koyaanisqatsi      347   \n",
            "\n",
            "      MediaTypeId  GenreId                                           Composer  \\\n",
            "0               1        1          Angus Young, Malcolm Young, Brian Johnson   \n",
            "1               2        1                                               None   \n",
            "2               2        1  F. Baltes, S. Kaufman, U. Dirkscneider & W. Ho...   \n",
            "3               2        1  F. Baltes, R.A. Smith-Diesel, S. Kaufman, U. D...   \n",
            "4               2        1                         Deaffy & R.A. Smith-Diesel   \n",
            "...           ...      ...                                                ...   \n",
            "3498            2       24                                               None   \n",
            "3499            2       24                                     Franz Schubert   \n",
            "3500            2       24                                 Claudio Monteverdi   \n",
            "3501            2       24                            Wolfgang Amadeus Mozart   \n",
            "3502            2       10                                       Philip Glass   \n",
            "\n",
            "      Milliseconds     Bytes  UnitPrice  \n",
            "0           343719  11170334       0.99  \n",
            "1           342562   5510424       0.99  \n",
            "2           230619   3990994       0.99  \n",
            "3           252051   4331779       0.99  \n",
            "4           375418   6290521       0.99  \n",
            "...            ...       ...        ...  \n",
            "3498        286741   4718950       0.99  \n",
            "3499        139200   2283131       0.99  \n",
            "3500         66639   1189062       0.99  \n",
            "3501        221331   3665114       0.99  \n",
            "3502        206005   3305164       0.99  \n",
            "\n",
            "[3503 rows x 9 columns]\n"
          ]
        }
      ]
    },
    {
      "cell_type": "code",
      "source": [
        "df = df.drop(columns=['UnitPrice'])"
      ],
      "metadata": {
        "id": "05BHWUMdVvnk"
      },
      "execution_count": 9,
      "outputs": []
    },
    {
      "cell_type": "code",
      "source": [
        "print(df)"
      ],
      "metadata": {
        "colab": {
          "base_uri": "https://localhost:8080/"
        },
        "id": "3AZC4eqpV1Fx",
        "outputId": "3340f15c-d51d-464d-f105-482144b7cdc4"
      },
      "execution_count": 10,
      "outputs": [
        {
          "output_type": "stream",
          "name": "stdout",
          "text": [
            "      TrackId                                             música  AlbumId  \\\n",
            "0           1            For Those About To Rock (We Salute You)        1   \n",
            "1           2                                  Balls to the Wall        2   \n",
            "2           3                                    Fast As a Shark        3   \n",
            "3           4                                  Restless and Wild        3   \n",
            "4           5                               Princess of the Dawn        3   \n",
            "...       ...                                                ...      ...   \n",
            "3498     3499  Pini Di Roma (Pinien Von Rom) \\ I Pini Della V...      343   \n",
            "3499     3500  String Quartet No. 12 in C Minor, D. 703 \"Quar...      344   \n",
            "3500     3501               L'orfeo, Act 3, Sinfonia (Orchestra)      345   \n",
            "3501     3502  Quintet for Horn, Violin, 2 Violas, and Cello ...      346   \n",
            "3502     3503                                      Koyaanisqatsi      347   \n",
            "\n",
            "      MediaTypeId  GenreId                                           Composer  \\\n",
            "0               1        1          Angus Young, Malcolm Young, Brian Johnson   \n",
            "1               2        1                                               None   \n",
            "2               2        1  F. Baltes, S. Kaufman, U. Dirkscneider & W. Ho...   \n",
            "3               2        1  F. Baltes, R.A. Smith-Diesel, S. Kaufman, U. D...   \n",
            "4               2        1                         Deaffy & R.A. Smith-Diesel   \n",
            "...           ...      ...                                                ...   \n",
            "3498            2       24                                               None   \n",
            "3499            2       24                                     Franz Schubert   \n",
            "3500            2       24                                 Claudio Monteverdi   \n",
            "3501            2       24                            Wolfgang Amadeus Mozart   \n",
            "3502            2       10                                       Philip Glass   \n",
            "\n",
            "      Milliseconds     Bytes  \n",
            "0           343719  11170334  \n",
            "1           342562   5510424  \n",
            "2           230619   3990994  \n",
            "3           252051   4331779  \n",
            "4           375418   6290521  \n",
            "...            ...       ...  \n",
            "3498        286741   4718950  \n",
            "3499        139200   2283131  \n",
            "3500         66639   1189062  \n",
            "3501        221331   3665114  \n",
            "3502        206005   3305164  \n",
            "\n",
            "[3503 rows x 8 columns]\n"
          ]
        }
      ]
    },
    {
      "cell_type": "code",
      "source": [],
      "metadata": {
        "id": "5W6BiYs9WBQS"
      },
      "execution_count": null,
      "outputs": []
    }
  ]
}