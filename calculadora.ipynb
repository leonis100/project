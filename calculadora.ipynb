{
  "nbformat": 4,
  "nbformat_minor": 0,
  "metadata": {
    "colab": {
      "provenance": [],
      "authorship_tag": "ABX9TyPdjro9ELBQX132+32HIXku",
      "include_colab_link": true
    },
    "kernelspec": {
      "name": "python3",
      "display_name": "Python 3"
    },
    "language_info": {
      "name": "python"
    }
  },
  "cells": [
    {
      "cell_type": "markdown",
      "metadata": {
        "id": "view-in-github",
        "colab_type": "text"
      },
      "source": [
        "<a href=\"https://colab.research.google.com/github/leonis100/project/blob/main/calculadora.ipynb\" target=\"_parent\"><img src=\"https://colab.research.google.com/assets/colab-badge.svg\" alt=\"Open In Colab\"/></a>"
      ]
    },
    {
      "cell_type": "code",
      "execution_count": 1,
      "metadata": {
        "colab": {
          "base_uri": "https://localhost:8080/"
        },
        "id": "I5XMZvP5p8s-",
        "outputId": "3a24ed09-2c8f-4bff-e565-7a739c5ed015"
      },
      "outputs": [
        {
          "output_type": "stream",
          "name": "stdout",
          "text": [
            "qual tipo de conta você quer ?\n",
            "0=multilicação, 1=soma, 2=divisão, 3= subtração\n",
            "insira qual tipo de conta:1\n",
            "insira o primeiro número:10\n",
            "insira o segundo número:8\n",
            "resultado= 18.0\n"
          ]
        }
      ],
      "source": [
        "print('qual tipo de conta você quer ?')\n",
        "print('0=multilicação, 1=soma, 2=divisão, 3= subtração')\n",
        "conta=int(input('insira qual tipo de conta:'))\n",
        "x=float(input('insira o primeiro número:'))\n",
        "y= float(input('insira o segundo número:'))\n",
        "conta\n",
        "if conta==0:\n",
        "  z= x*y\n",
        "  print('resultado=',z)\n",
        "\n",
        "elif conta==1:\n",
        "  z= x+y\n",
        "  print('resultado=',z)\n",
        "elif conta==2:\n",
        "  z=x/y  \n",
        "  print('resultado=',z)\n",
        "elif conta==3:\n",
        "  z=x-y\n",
        "  print('resultado=',z)\n",
        "else:\n",
        "  print('na próxima vez escolha o número que esteja na lista')\n",
        "\n",
        "\n",
        "\n",
        "\n"
      ]
    }
  ]
}