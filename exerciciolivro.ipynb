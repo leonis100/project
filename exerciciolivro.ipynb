{
  "nbformat": 4,
  "nbformat_minor": 0,
  "metadata": {
    "colab": {
      "provenance": [],
      "authorship_tag": "ABX9TyORpvBLK341gIVMoheCM0nb",
      "include_colab_link": true
    },
    "kernelspec": {
      "name": "python3",
      "display_name": "Python 3"
    },
    "language_info": {
      "name": "python"
    }
  },
  "cells": [
    {
      "cell_type": "markdown",
      "metadata": {
        "id": "view-in-github",
        "colab_type": "text"
      },
      "source": [
        "<a href=\"https://colab.research.google.com/github/leonis100/project/blob/main/exerciciolivro.ipynb\" target=\"_parent\"><img src=\"https://colab.research.google.com/assets/colab-badge.svg\" alt=\"Open In Colab\"/></a>"
      ]
    },
    {
      "cell_type": "code",
      "execution_count": 1,
      "metadata": {
        "id": "NGUrnpp-6z1k"
      },
      "outputs": [],
      "source": [
        "import matplotlib.pyplot as mt\n",
        "import numpy as ny\n",
        "import math"
      ]
    },
    {
      "cell_type": "code",
      "source": [
        "def reta (a,b,n):\n",
        "  x=ny.arange(inicio,n,0.2)\n",
        "  y=ny.zeros(len(x))\n",
        "  for i in range(len(x)):\n",
        "    y[i]=a*x[i]+b\n",
        "  mt.plot(x,y,'-k',linewidth=2)  \n",
        "\n",
        "\n",
        "\n",
        "\n",
        "def cubica (c,d,e,f,inicio,n):\n",
        "  x=ny.arange(inicio,n,0.2)\n",
        "  z=ny.zeros(len(x))\n",
        "  for i in range(len(x)):\n",
        "    z[i]=c*x[i]**3+d*x[i]**2+e*x[i]+f\n",
        "  mt.plot(x,z,'--or',linewidth=2)\n",
        "  mt.grid()\n",
        "  mt.xlabel('eixo x')\n",
        "  mt.ylabel('eixo y')\n",
        "\n",
        "a=float(input('coeficienta (a)='))\n",
        "b=float(input('coeficiente (b)='))\n",
        "c=float(input(\"coeficiente (c)=\"))\n",
        "d=float(input('coeficiente (d)='))\n",
        "e=float(input('coeficiente (e)='))\n",
        "f=float(input('coeficiente (f)='))\n",
        "inicio=float(input('inicio do dominio de x='))\n",
        "n=float(input('números de vezes='))\n",
        "reta(a,b,n)\n",
        "cubica (c,d,e,f,inicio,n)"
      ],
      "metadata": {
        "id": "hy_63L5C63yJ"
      },
      "execution_count": null,
      "outputs": []
    },
    {
      "cell_type": "code",
      "source": [
        "def exponencial (taxa,inicio,n):\n",
        "  x=ny.arange(inicio,n,0.2)\n",
        "  y=ny.zeros(len(x))\n",
        "  for i in range(len(x)):\n",
        "    y[i]=math.exp(taxa*x[i])\n",
        "  mt.plot(x,y,'-k',linewidth=2)  \n",
        "\n",
        "\n",
        "\n",
        "\n",
        "def trigonometria (amp,freq,inicio,n):\n",
        "  x=ny.arange(inicio,n,0.2)\n",
        "  z=ny.zeros(len(x))\n",
        "  for i in range(len(x)):\n",
        "    z[i]=amp*math.cos(freq*x[i])\n",
        "  mt.plot(x,z,'--or',linewidth=2)\n",
        "  mt.grid()\n",
        "  mt.xlabel('eixo x')\n",
        "  mt.ylabel('eixo y')\n",
        "\n",
        "taxa=float(input ('taxa='))\n",
        "amp=float(input('amplitude='))\n",
        "freq=float(input('frequência='))\n",
        "inicio =float(input('inicio='))\n",
        "n=float(input(\"final=\"))\n",
        "\n",
        "exponencial(taxa,inicio,n)\n",
        "trigonometria(amp,freq,inicio,n)"
      ],
      "metadata": {
        "id": "ULEVMre79et_"
      },
      "execution_count": null,
      "outputs": []
    },
    {
      "cell_type": "code",
      "source": [
        "def ofdemanda (a1,b1,a2,b2,inicio,n):\n",
        "  p=ny.arange(inicio,n,0.2)\n",
        "  qo=ny.zeros(len(p))\n",
        "  qd=ny.zeros(len(p))\n",
        "\n",
        "\n",
        "  for i in range(len(p)):\n",
        "    qo[i]=a1+b1*p[i]\n",
        "    qd[i]=a2-b2*p[i]\n",
        "  mt.plot(p,qo,'-k',p,qd,'-b*',linewidth=2)\n",
        "  mt.xlabel('quantidade=')\n",
        "  mt.ylabel('preço=')\n",
        "  mt.title('oferta x demanda')\n",
        "\n",
        "a1=float(input ('a1='))\n",
        "b1=float(input('b1='))\n",
        "a2=float(input('a2='))\n",
        "b2=float(input ('b2='))\n",
        "inicio =float(input('inicio='))\n",
        "n=float(input(\"final=\"))\n",
        "\n",
        "ofdemanda(a1,b1,a2,b2,inicio,n)"
      ],
      "metadata": {
        "id": "N3iayuSpA-Rf"
      },
      "execution_count": null,
      "outputs": []
    },
    {
      "cell_type": "code",
      "source": [
        "listaoriginal=[12.2,13.57,100,98.6]\n",
        "vetor=ny.array(listaoriginal)\n",
        "print('vetor=',vetor)"
      ],
      "metadata": {
        "id": "-mzPsP--Z73f"
      },
      "execution_count": null,
      "outputs": []
    },
    {
      "cell_type": "code",
      "source": [
        "x=ny.zeros(10)\n",
        "\n",
        "x[5]=11\n",
        "print(x)"
      ],
      "metadata": {
        "id": "7X9U5ieoa59p"
      },
      "execution_count": null,
      "outputs": []
    },
    {
      "cell_type": "code",
      "source": [
        "x=ny.arange(12,22)\n",
        "print(x)"
      ],
      "metadata": {
        "id": "TEHgUGPWdXa_"
      },
      "execution_count": null,
      "outputs": []
    },
    {
      "cell_type": "code",
      "source": [
        "c = [0, 12, 45.21, 34, 99.91]\n",
        "c1=ny.array(c)\n",
        "f=(9*c1+160)/5\n",
        "print(f)"
      ],
      "metadata": {
        "id": "qWif5iNceL8A"
      },
      "execution_count": null,
      "outputs": []
    },
    {
      "cell_type": "code",
      "source": [
        "x = ny.array ([[0,10,20] , [2,40,100]])\n",
        "y=40\n",
        "k=0\n",
        "for i in x:\n",
        "  for j in i :\n",
        "    if y==j:\n",
        "     print('numero',j,'achou')\n",
        "     k=1\n",
        "     break\n",
        "if k==0:\n",
        "  print('não achou')\n",
        "\n",
        "\n"
      ],
      "metadata": {
        "id": "F7gLXvvYfKvP"
      },
      "execution_count": null,
      "outputs": []
    },
    {
      "cell_type": "code",
      "source": [
        "def mult_escalar(s,v):\n",
        "  v=ny.array(v)\n",
        "  y=s*v\n",
        "  return(y)\n",
        "\n",
        "\n",
        "z = mult_escalar( 5, [1,2,5,7] )\n",
        "print(z)"
      ],
      "metadata": {
        "id": "vXEsiopQlDND"
      },
      "execution_count": null,
      "outputs": []
    },
    {
      "cell_type": "code",
      "source": [
        "x= ny.array ([2,5,7,4,10,80,1,2])\n",
        "y= ny.array ([-3,-5,2,1,4,-5,3,20])\n",
        "maximo=x.max()\n",
        "print(maximo)\n",
        "\n"
      ],
      "metadata": {
        "id": "5w7bFYoznGoL"
      },
      "execution_count": null,
      "outputs": []
    },
    {
      "cell_type": "code",
      "source": [
        "x=ny.array([2,5,7,4,10,80,1,2])\n",
        "y=ny.array([-3,-5,2,1,4,-5,3,20])\n",
        "y.sort()\n",
        "z=x-y\n",
        "print(z)\n"
      ],
      "metadata": {
        "id": "ADCnbQgmrRdS"
      },
      "execution_count": null,
      "outputs": []
    },
    {
      "cell_type": "code",
      "source": [
        "x =ny.array ([1,2,3])\n",
        "y =ny.array ([-1,5,100])\n",
        "z=ny.append(x,y)\n",
        "print(z)"
      ],
      "metadata": {
        "id": "XmPn1SZOtjmb"
      },
      "execution_count": null,
      "outputs": []
    },
    {
      "cell_type": "code",
      "source": [],
      "metadata": {
        "id": "bKuToBxMyp9E"
      },
      "execution_count": null,
      "outputs": []
    }
  ]
}