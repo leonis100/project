{
 "cells": [
  {
   "cell_type": "code",
   "execution_count": 7,
   "metadata": {},
   "outputs": [
    {
     "name": "stdout",
     "output_type": "stream",
     "text": [
      "Requirement already satisfied: yfinance in c:\\users\\pichau\\appdata\\local\\programs\\python\\python311\\lib\\site-packages (0.2.26)\n",
      "Requirement already satisfied: pandas>=1.3.0 in c:\\users\\pichau\\appdata\\local\\programs\\python\\python311\\lib\\site-packages (from yfinance) (2.0.3)\n",
      "Requirement already satisfied: numpy>=1.16.5 in c:\\users\\pichau\\appdata\\local\\programs\\python\\python311\\lib\\site-packages (from yfinance) (1.25.1)\n",
      "Requirement already satisfied: requests>=2.31 in c:\\users\\pichau\\appdata\\local\\programs\\python\\python311\\lib\\site-packages (from yfinance) (2.31.0)\n",
      "Requirement already satisfied: multitasking>=0.0.7 in c:\\users\\pichau\\appdata\\local\\programs\\python\\python311\\lib\\site-packages (from yfinance) (0.0.11)\n",
      "Requirement already satisfied: lxml>=4.9.1 in c:\\users\\pichau\\appdata\\local\\programs\\python\\python311\\lib\\site-packages (from yfinance) (4.9.3)\n",
      "Requirement already satisfied: appdirs>=1.4.4 in c:\\users\\pichau\\appdata\\local\\programs\\python\\python311\\lib\\site-packages (from yfinance) (1.4.4)\n",
      "Requirement already satisfied: pytz>=2022.5 in c:\\users\\pichau\\appdata\\local\\programs\\python\\python311\\lib\\site-packages (from yfinance) (2023.3)\n",
      "Requirement already satisfied: frozendict>=2.3.4 in c:\\users\\pichau\\appdata\\local\\programs\\python\\python311\\lib\\site-packages (from yfinance) (2.3.8)\n",
      "Requirement already satisfied: beautifulsoup4>=4.11.1 in c:\\users\\pichau\\appdata\\local\\programs\\python\\python311\\lib\\site-packages (from yfinance) (4.12.2)\n",
      "Requirement already satisfied: html5lib>=1.1 in c:\\users\\pichau\\appdata\\local\\programs\\python\\python311\\lib\\site-packages (from yfinance) (1.1)\n",
      "Requirement already satisfied: soupsieve>1.2 in c:\\users\\pichau\\appdata\\local\\programs\\python\\python311\\lib\\site-packages (from beautifulsoup4>=4.11.1->yfinance) (2.4.1)\n",
      "Requirement already satisfied: six>=1.9 in c:\\users\\pichau\\appdata\\local\\programs\\python\\python311\\lib\\site-packages (from html5lib>=1.1->yfinance) (1.16.0)\n",
      "Requirement already satisfied: webencodings in c:\\users\\pichau\\appdata\\local\\programs\\python\\python311\\lib\\site-packages (from html5lib>=1.1->yfinance) (0.5.1)\n",
      "Requirement already satisfied: python-dateutil>=2.8.2 in c:\\users\\pichau\\appdata\\local\\programs\\python\\python311\\lib\\site-packages (from pandas>=1.3.0->yfinance) (2.8.2)\n",
      "Requirement already satisfied: tzdata>=2022.1 in c:\\users\\pichau\\appdata\\local\\programs\\python\\python311\\lib\\site-packages (from pandas>=1.3.0->yfinance) (2023.3)\n",
      "Requirement already satisfied: charset-normalizer<4,>=2 in c:\\users\\pichau\\appdata\\local\\programs\\python\\python311\\lib\\site-packages (from requests>=2.31->yfinance) (3.2.0)\n",
      "Requirement already satisfied: idna<4,>=2.5 in c:\\users\\pichau\\appdata\\local\\programs\\python\\python311\\lib\\site-packages (from requests>=2.31->yfinance) (3.4)\n",
      "Requirement already satisfied: urllib3<3,>=1.21.1 in c:\\users\\pichau\\appdata\\local\\programs\\python\\python311\\lib\\site-packages (from requests>=2.31->yfinance) (2.0.4)\n",
      "Requirement already satisfied: certifi>=2017.4.17 in c:\\users\\pichau\\appdata\\local\\programs\\python\\python311\\lib\\site-packages (from requests>=2.31->yfinance) (2023.7.22)\n"
     ]
    },
    {
     "name": "stderr",
     "output_type": "stream",
     "text": [
      "\n",
      "[notice] A new release of pip is available: 23.1.2 -> 24.3.1\n",
      "[notice] To update, run: python.exe -m pip install --upgrade pip\n"
     ]
    }
   ],
   "source": [
    "#importando\n",
    "!pip install yfinance\n",
    "import numpy as np\n",
    "import pandas as pd\n",
    "\n",
    "from pandas_datareader import data as pdr\n",
    "\n",
    "import yfinance as yf\n",
    "yf.pdr_override()\n",
    "\n",
    "from matplotlib import pyplot as plt\n",
    "import plotly.express as px\n"
   ]
  },
  {
   "cell_type": "code",
   "execution_count": 8,
   "metadata": {},
   "outputs": [],
   "source": [
    "#PROCURANDO O FUNDO IMOBILIÁRIO\n",
    "assets = [ 'CPTS11.SA', 'BRCO11.SA', 'KNCR11.SA','RBRR11.SA','HGRU11.SA','HGRE11.SA','XPML11.SA','TRXF11.SA','VISC11.SA','PVBI11.SA']\n",
    "     "
   ]
  },
  {
   "cell_type": "code",
   "execution_count": 9,
   "metadata": {},
   "outputs": [],
   "source": [
    "#DATAS\n",
    "start = '2020-01-01'\n",
    "end= \"2022-01-05\""
   ]
  },
  {
   "cell_type": "code",
   "execution_count": 10,
   "metadata": {},
   "outputs": [
    {
     "name": "stdout",
     "output_type": "stream",
     "text": [
      "[*********************100%***********************]  10 of 10 completed\n"
     ]
    }
   ],
   "source": [
    "#PREÇOS\n",
    "prices = pdr.get_data_yahoo(assets, start = start)['Adj Close']"
   ]
  },
  {
   "cell_type": "code",
   "execution_count": 11,
   "metadata": {},
   "outputs": [],
   "source": [
    "#PARAMETROS\n",
    "returns = prices.pct_change().dropna()\n",
    "weights = np.array([0.10, 0.10, 0.10, 0.10,0.10,0.10,0.10,0.10,0.10,0.10])\n",
    "return1 = returns.assign(portfolio = returns.dot(weights))"
   ]
  },
  {
   "cell_type": "code",
   "execution_count": 12,
   "metadata": {},
   "outputs": [],
   "source": [
    "import plotly.io as pio\n",
    "pio.renderers.default = \"browser\"\n",
    "\n",
    "acum = prices.reset_index(level=0)\n",
    "fig = px.line(acum, x='Date', y=assets)\n",
    "fig.show()"
   ]
  },
  {
   "cell_type": "code",
   "execution_count": 13,
   "metadata": {},
   "outputs": [],
   "source": [
    "import plotly.graph_objects as go\n",
    "\n",
    "# Criando a tabela com dados calculados\n",
    "summary_data = []\n",
    "for asset in assets:\n",
    "    max_price = prices[asset].max()\n",
    "    min_price = prices[asset].min()\n",
    "    std_dev = returns[asset].std()\n",
    "    max_date = prices[asset].idxmax()\n",
    "    min_date = prices[asset].idxmin()\n",
    "    \n",
    "    summary_data.append({\n",
    "        \"Asset\": asset,\n",
    "        \"Max Price\": round(max_price, 2),\n",
    "        \"Min Price\": round(min_price, 2),\n",
    "        \"Std. Dev. of Returns\": round(std_dev, 4),\n",
    "        \"Date of Max\": max_date.strftime('%Y-%m-%d'),\n",
    "        \"Date of Min\": min_date.strftime('%Y-%m-%d')\n",
    "    })\n",
    "\n",
    "# Convertendo para DataFrame (opcional)\n",
    "summary_df = pd.DataFrame(summary_data)\n",
    "\n",
    "# Criando a tabela com Plotly\n",
    "fig_table = go.Figure(data=[go.Table(\n",
    "    header=dict(\n",
    "        values=[\"<b>Asset</b>\", \"<b>Max Price</b>\", \"<b>Min Price</b>\", \n",
    "                \"<b>Std. Dev. of Returns</b>\", \"<b>Date of Max</b>\", \"<b>Date of Min</b>\"],\n",
    "        fill_color='lightblue',\n",
    "        align='center',\n",
    "        font=dict(color='black', size=12)\n",
    "    ),\n",
    "    cells=dict(\n",
    "        values=[\n",
    "            summary_df['Asset'],\n",
    "            summary_df['Max Price'],\n",
    "            summary_df['Min Price'],\n",
    "            summary_df['Std. Dev. of Returns'],\n",
    "            summary_df['Date of Max'],\n",
    "            summary_df['Date of Min']\n",
    "        ],\n",
    "        fill_color='white',\n",
    "        align='center',\n",
    "        font=dict(color='black', size=11),\n",
    "        height=30\n",
    "    )\n",
    ")])\n",
    "\n",
    "# Exibindo a tabela no navegador\n",
    "fig_table.update_layout(\n",
    "    title=\"Summary of Asset Statistics\",\n",
    "    title_font_size=18,\n",
    "    title_x=0.5,\n",
    "    margin=dict(l=20, r=20, t=40, b=20),\n",
    "    width=900, height=400\n",
    ")\n",
    "\n",
    "fig_table.show()\n"
   ]
  },
  {
   "cell_type": "code",
   "execution_count": null,
   "metadata": {},
   "outputs": [],
   "source": []
  }
 ],
 "metadata": {
  "kernelspec": {
   "display_name": "Python 3",
   "language": "python",
   "name": "python3"
  },
  "language_info": {
   "codemirror_mode": {
    "name": "ipython",
    "version": 3
   },
   "file_extension": ".py",
   "mimetype": "text/x-python",
   "name": "python",
   "nbconvert_exporter": "python",
   "pygments_lexer": "ipython3",
   "version": "3.11.4"
  }
 },
 "nbformat": 4,
 "nbformat_minor": 2
}
