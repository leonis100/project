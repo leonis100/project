{
 "cells": [
  {
   "cell_type": "code",
   "execution_count": null,
   "id": "8c31213f",
   "metadata": {},
   "outputs": [],
   "source": [
    "\n",
    "# Seu c�digo atual aqui, incluindo a cria��o da tabela ou gr�ficos\n"
   ]
  }
 ],
 "metadata": {},
 "nbformat": 4,
 "nbformat_minor": 5
}
