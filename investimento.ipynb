{
  "nbformat": 4,
  "nbformat_minor": 0,
  "metadata": {
    "colab": {
      "provenance": [],
      "authorship_tag": "ABX9TyMFMKKluPR6yCEY8bo8emI+",
      "include_colab_link": true
    },
    "kernelspec": {
      "name": "python3",
      "display_name": "Python 3"
    },
    "language_info": {
      "name": "python"
    }
  },
  "cells": [
    {
      "cell_type": "markdown",
      "metadata": {
        "id": "view-in-github",
        "colab_type": "text"
      },
      "source": [
        "<a href=\"https://colab.research.google.com/github/leonis100/project/blob/main/investimento.ipynb\" target=\"_parent\"><img src=\"https://colab.research.google.com/assets/colab-badge.svg\" alt=\"Open In Colab\"/></a>"
      ]
    },
    {
      "cell_type": "code",
      "execution_count": 1,
      "metadata": {
        "colab": {
          "base_uri": "https://localhost:8080/"
        },
        "id": "b-3Y4pMkYv-s",
        "outputId": "667b258b-10bd-45cb-d9f1-4ab55da7d326"
      },
      "outputs": [
        {
          "output_type": "stream",
          "name": "stdout",
          "text": [
            "     Ano       Capital\n",
            "0      0         10000\n",
            "1    1.0       10500.0\n",
            "2    2.0       11025.0\n",
            "3    3.0      11576.25\n",
            "4    4.0    12155.0625\n",
            "5    5.0  12762.815625\n",
            "6    6.0  13400.956406\n",
            "7    7.0  14071.004227\n",
            "8    8.0  14774.554438\n",
            "9    9.0   15513.28216\n",
            "10  10.0  16288.946268\n",
            "11  11.0  17103.393581\n",
            "12  12.0   17958.56326\n",
            "13  13.0  18856.491423\n",
            "14  14.0  19799.315994\n",
            "15  15.0  20789.281794\n",
            "16  16.0  21828.745884\n",
            "17  17.0  22920.183178\n",
            "18  18.0  24066.192337\n",
            "19  19.0  25269.501954\n",
            "20  20.0  26532.977051\n"
          ]
        }
      ],
      "source": [
        "import pandas as pd\n",
        "import numpy as np\n",
        "\n",
        "# Definir os parâmetros do simulador\n",
        "capital_inicial = 10000  # Capital inicial do investidor\n",
        "taxa_juros = 0.05  # Taxa de juros do investimento\n",
        "periodo = 20  # Número de anos do investimento\n",
        "\n",
        "# Criar um DataFrame para armazenar os resultados da simulação\n",
        "df = pd.DataFrame(columns=[\"Ano\", \"Capital\"])\n",
        "\n",
        "# Adicionar a linha inicial ao DataFrame, com o capital inicial\n",
        "df = df.append({\"Ano\": 0, \"Capital\": capital_inicial}, ignore_index=True)\n",
        "\n",
        "# Loop pelo número de anos do investimento\n",
        "for ano in range(1, periodo + 1):\n",
        "    # Calcular o novo capital com base na taxa de juros\n",
        "    capital = df.iloc[-1][\"Capital\"] * (1 + taxa_juros)\n",
        "    # Adicionar a linha com o novo capital ao DataFrame\n",
        "    df = df.append({\"Ano\": ano, \"Capital\": capital}, ignore_index=True)\n",
        "\n",
        "# Exibir o DataFrame com os resultados da simulação\n",
        "print(df)"
      ]
    }
  ]
}