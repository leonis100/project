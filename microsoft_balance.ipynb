{
  "nbformat": 4,
  "nbformat_minor": 0,
  "metadata": {
    "colab": {
      "provenance": [],
      "authorship_tag": "ABX9TyMttMhegR1RuzVDKPhak2DJ",
      "include_colab_link": true
    },
    "kernelspec": {
      "name": "python3",
      "display_name": "Python 3"
    },
    "language_info": {
      "name": "python"
    }
  },
  "cells": [
    {
      "cell_type": "markdown",
      "metadata": {
        "id": "view-in-github",
        "colab_type": "text"
      },
      "source": [
        "<a href=\"https://colab.research.google.com/github/leonis100/project/blob/main/microsoft_balance.ipynb\" target=\"_parent\"><img src=\"https://colab.research.google.com/assets/colab-badge.svg\" alt=\"Open In Colab\"/></a>"
      ]
    },
    {
      "cell_type": "code",
      "source": [
        "pip install yfinance"
      ],
      "metadata": {
        "colab": {
          "base_uri": "https://localhost:8080/"
        },
        "id": "IcvRSXysb02X",
        "outputId": "d7dcb0b0-7bf5-424a-c3d6-eabd1079acc6"
      },
      "execution_count": 5,
      "outputs": [
        {
          "output_type": "stream",
          "name": "stdout",
          "text": [
            "Looking in indexes: https://pypi.org/simple, https://us-python.pkg.dev/colab-wheels/public/simple/\n",
            "Collecting yfinance\n",
            "  Downloading yfinance-0.2.3-py2.py3-none-any.whl (50 kB)\n",
            "\u001b[K     |████████████████████████████████| 50 kB 2.8 MB/s \n",
            "\u001b[?25hCollecting frozendict>=2.3.4\n",
            "  Downloading frozendict-2.3.4-cp38-cp38-manylinux_2_17_x86_64.manylinux2014_x86_64.whl (110 kB)\n",
            "\u001b[K     |████████████████████████████████| 110 kB 9.7 MB/s \n",
            "\u001b[?25hRequirement already satisfied: pytz>=2022.5 in /usr/local/lib/python3.8/dist-packages (from yfinance) (2022.6)\n",
            "Collecting html5lib>=1.1\n",
            "  Downloading html5lib-1.1-py2.py3-none-any.whl (112 kB)\n",
            "\u001b[K     |████████████████████████████████| 112 kB 50.2 MB/s \n",
            "\u001b[?25hRequirement already satisfied: numpy>=1.16.5 in /usr/local/lib/python3.8/dist-packages (from yfinance) (1.21.6)\n",
            "Collecting cryptography>=3.3.2\n",
            "  Downloading cryptography-38.0.4-cp36-abi3-manylinux_2_24_x86_64.whl (4.0 MB)\n",
            "\u001b[K     |████████████████████████████████| 4.0 MB 54.7 MB/s \n",
            "\u001b[?25hRequirement already satisfied: appdirs>=1.4.4 in /usr/local/lib/python3.8/dist-packages (from yfinance) (1.4.4)\n",
            "Requirement already satisfied: lxml>=4.9.1 in /usr/local/lib/python3.8/dist-packages (from yfinance) (4.9.2)\n",
            "Collecting beautifulsoup4>=4.11.1\n",
            "  Downloading beautifulsoup4-4.11.1-py3-none-any.whl (128 kB)\n",
            "\u001b[K     |████████████████████████████████| 128 kB 48.7 MB/s \n",
            "\u001b[?25hRequirement already satisfied: multitasking>=0.0.7 in /usr/local/lib/python3.8/dist-packages (from yfinance) (0.0.11)\n",
            "Collecting requests>=2.26\n",
            "  Downloading requests-2.28.1-py3-none-any.whl (62 kB)\n",
            "\u001b[K     |████████████████████████████████| 62 kB 1.5 MB/s \n",
            "\u001b[?25hRequirement already satisfied: pandas>=1.3.0 in /usr/local/lib/python3.8/dist-packages (from yfinance) (1.3.5)\n",
            "Collecting soupsieve>1.2\n",
            "  Downloading soupsieve-2.3.2.post1-py3-none-any.whl (37 kB)\n",
            "Requirement already satisfied: cffi>=1.12 in /usr/local/lib/python3.8/dist-packages (from cryptography>=3.3.2->yfinance) (1.15.1)\n",
            "Requirement already satisfied: pycparser in /usr/local/lib/python3.8/dist-packages (from cffi>=1.12->cryptography>=3.3.2->yfinance) (2.21)\n",
            "Requirement already satisfied: webencodings in /usr/local/lib/python3.8/dist-packages (from html5lib>=1.1->yfinance) (0.5.1)\n",
            "Requirement already satisfied: six>=1.9 in /usr/local/lib/python3.8/dist-packages (from html5lib>=1.1->yfinance) (1.15.0)\n",
            "Requirement already satisfied: python-dateutil>=2.7.3 in /usr/local/lib/python3.8/dist-packages (from pandas>=1.3.0->yfinance) (2.8.2)\n",
            "Requirement already satisfied: charset-normalizer<3,>=2 in /usr/local/lib/python3.8/dist-packages (from requests>=2.26->yfinance) (2.1.1)\n",
            "Requirement already satisfied: idna<4,>=2.5 in /usr/local/lib/python3.8/dist-packages (from requests>=2.26->yfinance) (2.10)\n",
            "Requirement already satisfied: certifi>=2017.4.17 in /usr/local/lib/python3.8/dist-packages (from requests>=2.26->yfinance) (2022.12.7)\n",
            "Requirement already satisfied: urllib3<1.27,>=1.21.1 in /usr/local/lib/python3.8/dist-packages (from requests>=2.26->yfinance) (1.24.3)\n",
            "Installing collected packages: soupsieve, requests, html5lib, frozendict, cryptography, beautifulsoup4, yfinance\n",
            "  Attempting uninstall: requests\n",
            "    Found existing installation: requests 2.23.0\n",
            "    Uninstalling requests-2.23.0:\n",
            "      Successfully uninstalled requests-2.23.0\n",
            "  Attempting uninstall: html5lib\n",
            "    Found existing installation: html5lib 1.0.1\n",
            "    Uninstalling html5lib-1.0.1:\n",
            "      Successfully uninstalled html5lib-1.0.1\n",
            "  Attempting uninstall: beautifulsoup4\n",
            "    Found existing installation: beautifulsoup4 4.6.3\n",
            "    Uninstalling beautifulsoup4-4.6.3:\n",
            "      Successfully uninstalled beautifulsoup4-4.6.3\n",
            "Successfully installed beautifulsoup4-4.11.1 cryptography-38.0.4 frozendict-2.3.4 html5lib-1.1 requests-2.28.1 soupsieve-2.3.2.post1 yfinance-0.2.3\n"
          ]
        }
      ]
    },
    {
      "cell_type": "code",
      "execution_count": 9,
      "metadata": {
        "colab": {
          "base_uri": "https://localhost:8080/"
        },
        "id": "sTcn5sHpbnaV",
        "outputId": "ee025146-5303-4cf7-e5e5-cffa433ac196"
      },
      "outputs": [
        {
          "output_type": "stream",
          "name": "stdout",
          "text": [
            "                                 Open        High         Low       Close  \\\n",
            "Date                                                                        \n",
            "1986-03-13 00:00:00-05:00    0.055380    0.063524    0.055380    0.060809   \n",
            "1986-03-14 00:00:00-05:00    0.060809    0.064067    0.060809    0.062980   \n",
            "1986-03-17 00:00:00-05:00    0.062980    0.064609    0.062980    0.064067   \n",
            "1986-03-18 00:00:00-05:00    0.064067    0.064609    0.061894    0.062437   \n",
            "1986-03-19 00:00:00-05:00    0.062437    0.062980    0.060809    0.061351   \n",
            "...                               ...         ...         ...         ...   \n",
            "2022-12-23 00:00:00-05:00  236.110001  238.869995  233.940002  238.729996   \n",
            "2022-12-27 00:00:00-05:00  238.699997  238.929993  235.830002  236.960007   \n",
            "2022-12-28 00:00:00-05:00  236.889999  239.720001  234.169998  234.529999   \n",
            "2022-12-29 00:00:00-05:00  235.649994  241.919998  235.649994  241.009995   \n",
            "2022-12-30 00:00:00-05:00  238.210007  239.960007  236.660004  239.820007   \n",
            "\n",
            "                               Volume  Dividends  Stock Splits  \n",
            "Date                                                            \n",
            "1986-03-13 00:00:00-05:00  1031788800        0.0           0.0  \n",
            "1986-03-14 00:00:00-05:00   308160000        0.0           0.0  \n",
            "1986-03-17 00:00:00-05:00   133171200        0.0           0.0  \n",
            "1986-03-18 00:00:00-05:00    67766400        0.0           0.0  \n",
            "1986-03-19 00:00:00-05:00    47894400        0.0           0.0  \n",
            "...                               ...        ...           ...  \n",
            "2022-12-23 00:00:00-05:00    21203200        0.0           0.0  \n",
            "2022-12-27 00:00:00-05:00    16688600        0.0           0.0  \n",
            "2022-12-28 00:00:00-05:00    17457100        0.0           0.0  \n",
            "2022-12-29 00:00:00-05:00    19770700        0.0           0.0  \n",
            "2022-12-30 00:00:00-05:00    21925563        0.0           0.0  \n",
            "\n",
            "[9277 rows x 7 columns]\n"
          ]
        }
      ],
      "source": [
        "import yfinance as yf\n",
        "\n",
        "msft = yf.Ticker(\"MSFT\")\n",
        "\n",
        "\n",
        "\n",
        "# get historical market data\n",
        "hist = msft.history(period=\"max\")\n",
        "\n",
        "print(hist)\n",
        "\n",
        "\n"
      ]
    },
    {
      "cell_type": "code",
      "source": [
        "msft2=msft.quarterly_balance_sheet\n",
        "#DATAS\n",
        "start = '2020-01-01'\n",
        "end= \"2022-10-08\""
      ],
      "metadata": {
        "id": "KZs-OSrtd4Ft"
      },
      "execution_count": 17,
      "outputs": []
    },
    {
      "cell_type": "code",
      "source": [
        "msft2.to_excel(\"dado3.xlsx\")"
      ],
      "metadata": {
        "id": "yw7uqyNtd7S1"
      },
      "execution_count": 18,
      "outputs": []
    },
    {
      "cell_type": "code",
      "source": [
        "msft.calendar"
      ],
      "metadata": {
        "colab": {
          "base_uri": "https://localhost:8080/",
          "height": 269
        },
        "id": "a_KGRv7VevuW",
        "outputId": "63dc3c53-47de-44c1-8fca-a3a8f30f2297"
      },
      "execution_count": 19,
      "outputs": [
        {
          "output_type": "execute_result",
          "data": {
            "text/plain": [
              "                                    0                    1\n",
              "Earnings Date     2023-01-23 10:59:00  2023-01-27 12:00:00\n",
              "Earnings Average                 2.29                 2.29\n",
              "Earnings Low                     2.23                 2.23\n",
              "Earnings High                    2.36                 2.36\n",
              "Revenue Average           52969300000          52969300000\n",
              "Revenue Low               52389000000          52389000000\n",
              "Revenue High              53475000000          53475000000"
            ],
            "text/html": [
              "\n",
              "  <div id=\"df-ad493cbb-ef3e-48ce-b435-e02e7712f4a9\">\n",
              "    <div class=\"colab-df-container\">\n",
              "      <div>\n",
              "<style scoped>\n",
              "    .dataframe tbody tr th:only-of-type {\n",
              "        vertical-align: middle;\n",
              "    }\n",
              "\n",
              "    .dataframe tbody tr th {\n",
              "        vertical-align: top;\n",
              "    }\n",
              "\n",
              "    .dataframe thead th {\n",
              "        text-align: right;\n",
              "    }\n",
              "</style>\n",
              "<table border=\"1\" class=\"dataframe\">\n",
              "  <thead>\n",
              "    <tr style=\"text-align: right;\">\n",
              "      <th></th>\n",
              "      <th>0</th>\n",
              "      <th>1</th>\n",
              "    </tr>\n",
              "  </thead>\n",
              "  <tbody>\n",
              "    <tr>\n",
              "      <th>Earnings Date</th>\n",
              "      <td>2023-01-23 10:59:00</td>\n",
              "      <td>2023-01-27 12:00:00</td>\n",
              "    </tr>\n",
              "    <tr>\n",
              "      <th>Earnings Average</th>\n",
              "      <td>2.29</td>\n",
              "      <td>2.29</td>\n",
              "    </tr>\n",
              "    <tr>\n",
              "      <th>Earnings Low</th>\n",
              "      <td>2.23</td>\n",
              "      <td>2.23</td>\n",
              "    </tr>\n",
              "    <tr>\n",
              "      <th>Earnings High</th>\n",
              "      <td>2.36</td>\n",
              "      <td>2.36</td>\n",
              "    </tr>\n",
              "    <tr>\n",
              "      <th>Revenue Average</th>\n",
              "      <td>52969300000</td>\n",
              "      <td>52969300000</td>\n",
              "    </tr>\n",
              "    <tr>\n",
              "      <th>Revenue Low</th>\n",
              "      <td>52389000000</td>\n",
              "      <td>52389000000</td>\n",
              "    </tr>\n",
              "    <tr>\n",
              "      <th>Revenue High</th>\n",
              "      <td>53475000000</td>\n",
              "      <td>53475000000</td>\n",
              "    </tr>\n",
              "  </tbody>\n",
              "</table>\n",
              "</div>\n",
              "      <button class=\"colab-df-convert\" onclick=\"convertToInteractive('df-ad493cbb-ef3e-48ce-b435-e02e7712f4a9')\"\n",
              "              title=\"Convert this dataframe to an interactive table.\"\n",
              "              style=\"display:none;\">\n",
              "        \n",
              "  <svg xmlns=\"http://www.w3.org/2000/svg\" height=\"24px\"viewBox=\"0 0 24 24\"\n",
              "       width=\"24px\">\n",
              "    <path d=\"M0 0h24v24H0V0z\" fill=\"none\"/>\n",
              "    <path d=\"M18.56 5.44l.94 2.06.94-2.06 2.06-.94-2.06-.94-.94-2.06-.94 2.06-2.06.94zm-11 1L8.5 8.5l.94-2.06 2.06-.94-2.06-.94L8.5 2.5l-.94 2.06-2.06.94zm10 10l.94 2.06.94-2.06 2.06-.94-2.06-.94-.94-2.06-.94 2.06-2.06.94z\"/><path d=\"M17.41 7.96l-1.37-1.37c-.4-.4-.92-.59-1.43-.59-.52 0-1.04.2-1.43.59L10.3 9.45l-7.72 7.72c-.78.78-.78 2.05 0 2.83L4 21.41c.39.39.9.59 1.41.59.51 0 1.02-.2 1.41-.59l7.78-7.78 2.81-2.81c.8-.78.8-2.07 0-2.86zM5.41 20L4 18.59l7.72-7.72 1.47 1.35L5.41 20z\"/>\n",
              "  </svg>\n",
              "      </button>\n",
              "      \n",
              "  <style>\n",
              "    .colab-df-container {\n",
              "      display:flex;\n",
              "      flex-wrap:wrap;\n",
              "      gap: 12px;\n",
              "    }\n",
              "\n",
              "    .colab-df-convert {\n",
              "      background-color: #E8F0FE;\n",
              "      border: none;\n",
              "      border-radius: 50%;\n",
              "      cursor: pointer;\n",
              "      display: none;\n",
              "      fill: #1967D2;\n",
              "      height: 32px;\n",
              "      padding: 0 0 0 0;\n",
              "      width: 32px;\n",
              "    }\n",
              "\n",
              "    .colab-df-convert:hover {\n",
              "      background-color: #E2EBFA;\n",
              "      box-shadow: 0px 1px 2px rgba(60, 64, 67, 0.3), 0px 1px 3px 1px rgba(60, 64, 67, 0.15);\n",
              "      fill: #174EA6;\n",
              "    }\n",
              "\n",
              "    [theme=dark] .colab-df-convert {\n",
              "      background-color: #3B4455;\n",
              "      fill: #D2E3FC;\n",
              "    }\n",
              "\n",
              "    [theme=dark] .colab-df-convert:hover {\n",
              "      background-color: #434B5C;\n",
              "      box-shadow: 0px 1px 3px 1px rgba(0, 0, 0, 0.15);\n",
              "      filter: drop-shadow(0px 1px 2px rgba(0, 0, 0, 0.3));\n",
              "      fill: #FFFFFF;\n",
              "    }\n",
              "  </style>\n",
              "\n",
              "      <script>\n",
              "        const buttonEl =\n",
              "          document.querySelector('#df-ad493cbb-ef3e-48ce-b435-e02e7712f4a9 button.colab-df-convert');\n",
              "        buttonEl.style.display =\n",
              "          google.colab.kernel.accessAllowed ? 'block' : 'none';\n",
              "\n",
              "        async function convertToInteractive(key) {\n",
              "          const element = document.querySelector('#df-ad493cbb-ef3e-48ce-b435-e02e7712f4a9');\n",
              "          const dataTable =\n",
              "            await google.colab.kernel.invokeFunction('convertToInteractive',\n",
              "                                                     [key], {});\n",
              "          if (!dataTable) return;\n",
              "\n",
              "          const docLinkHtml = 'Like what you see? Visit the ' +\n",
              "            '<a target=\"_blank\" href=https://colab.research.google.com/notebooks/data_table.ipynb>data table notebook</a>'\n",
              "            + ' to learn more about interactive tables.';\n",
              "          element.innerHTML = '';\n",
              "          dataTable['output_type'] = 'display_data';\n",
              "          await google.colab.output.renderOutput(dataTable, element);\n",
              "          const docLink = document.createElement('div');\n",
              "          docLink.innerHTML = docLinkHtml;\n",
              "          element.appendChild(docLink);\n",
              "        }\n",
              "      </script>\n",
              "    </div>\n",
              "  </div>\n",
              "  "
            ]
          },
          "metadata": {},
          "execution_count": 19
        }
      ]
    },
    {
      "cell_type": "code",
      "source": [
        "# get historical market data\n",
        "balance = msft.balance_sheet\n",
        "period = \"5y\""
      ],
      "metadata": {
        "id": "bjNNWfdBez82"
      },
      "execution_count": 26,
      "outputs": []
    },
    {
      "cell_type": "code",
      "source": [
        "balance.head"
      ],
      "metadata": {
        "colab": {
          "base_uri": "https://localhost:8080/"
        },
        "id": "aez4JKpmglyf",
        "outputId": "3e9be0b4-06d2-4659-a721-d129f2700d34"
      },
      "execution_count": 27,
      "outputs": [
        {
          "output_type": "execute_result",
          "data": {
            "text/plain": [
              "<bound method NDFrame.head of                                                       2022-06-30  \\\n",
              "Total Assets                                      364840000000.0   \n",
              "Current Assets                                    169684000000.0   \n",
              "Cash Cash Equivalents And Short Term Investments  104749000000.0   \n",
              "Cash And Cash Equivalents                          13931000000.0   \n",
              "Cash Financial                                      8258000000.0   \n",
              "...                                                          ...   \n",
              "Tangible Book Value                                87720000000.0   \n",
              "Total Debt                                         61270000000.0   \n",
              "Net Debt                                           35850000000.0   \n",
              "Share Issued                                        7464000000.0   \n",
              "Ordinary Shares Number                              7464000000.0   \n",
              "\n",
              "                                                      2021-06-30  \\\n",
              "Total Assets                                      333779000000.0   \n",
              "Current Assets                                    184406000000.0   \n",
              "Cash Cash Equivalents And Short Term Investments  130334000000.0   \n",
              "Cash And Cash Equivalents                          14224000000.0   \n",
              "Cash Financial                                      7272000000.0   \n",
              "...                                                          ...   \n",
              "Tangible Book Value                                84477000000.0   \n",
              "Total Debt                                         67775000000.0   \n",
              "Net Debt                                           43922000000.0   \n",
              "Share Issued                                        7519000000.0   \n",
              "Ordinary Shares Number                              7519000000.0   \n",
              "\n",
              "                                                      2020-06-30  \\\n",
              "Total Assets                                      301311000000.0   \n",
              "Current Assets                                    181915000000.0   \n",
              "Cash Cash Equivalents And Short Term Investments  136527000000.0   \n",
              "Cash And Cash Equivalents                          13576000000.0   \n",
              "Cash Financial                                               NaN   \n",
              "...                                                          ...   \n",
              "Tangible Book Value                                67915000000.0   \n",
              "Total Debt                                         70998000000.0   \n",
              "Net Debt                                           49751000000.0   \n",
              "Share Issued                                        7571000000.0   \n",
              "Ordinary Shares Number                              7571000000.0   \n",
              "\n",
              "                                                      2019-06-30  \n",
              "Total Assets                                      286556000000.0  \n",
              "Current Assets                                    175552000000.0  \n",
              "Cash Cash Equivalents And Short Term Investments  133819000000.0  \n",
              "Cash And Cash Equivalents                          11356000000.0  \n",
              "Cash Financial                                               NaN  \n",
              "...                                                          ...  \n",
              "Tangible Book Value                                52554000000.0  \n",
              "Total Debt                                         78366000000.0  \n",
              "Net Debt                                           60822000000.0  \n",
              "Share Issued                                        7643000000.0  \n",
              "Ordinary Shares Number                              7643000000.0  \n",
              "\n",
              "[72 rows x 4 columns]>"
            ]
          },
          "metadata": {},
          "execution_count": 27
        }
      ]
    },
    {
      "cell_type": "code",
      "source": [
        "balance.to_excel(\"dado4.xlsx\")"
      ],
      "metadata": {
        "id": "xZ0leSQ2g-Pu"
      },
      "execution_count": 28,
      "outputs": []
    }
  ]
}